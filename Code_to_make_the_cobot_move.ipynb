{
 "cells": [
  {
   "cell_type": "markdown",
   "id": "821bff38",
   "metadata": {},
   "source": [
    "#### Code to move the cobot"
   ]
  },
  {
   "cell_type": "code",
   "execution_count": null,
   "id": "d8b2b7f9",
   "metadata": {},
   "outputs": [],
   "source": [
    "!pip install pymycobot --upgrade"
   ]
  },
  {
   "cell_type": "code",
   "execution_count": null,
   "id": "2cdc7b82",
   "metadata": {},
   "outputs": [],
   "source": [
    "import cv2\n",
    "import numpy as np\n",
    "\n",
    "import time\n",
    "import os,sys\n",
    "import math\n",
    "import serial\n",
    "import serial.tools.list_ports\n",
    "from pymycobot.mycobot import MyCobot"
   ]
  },
  {
   "cell_type": "markdown",
   "id": "2e5beee3",
   "metadata": {},
   "source": [
    "#### code to make the cobot chanhe the colors"
   ]
  },
  {
   "cell_type": "code",
   "execution_count": null,
   "id": "6f057e1b",
   "metadata": {},
   "outputs": [],
   "source": [
    "mc = MyCobot(\"COM3\",115200)\n",
    "\n",
    "\n",
    "i = 7\n",
    "\n",
    "while i>0:\n",
    "    mc.set_color(0,0,255) #blue light on\n",
    "    time.sleep(2) # #wait for 2 seconds\n",
    "    mc.set_color(255,0,0) #red light on\n",
    "    time.sleep(2) #wait for 2 \n",
    "    mc.set_color(0,255,0) #green light on\n",
    "    time.sleep(2) #wait for 2 seconds\n",
    "    i = i-1"
   ]
  },
  {
   "cell_type": "markdown",
   "id": "185910a1",
   "metadata": {},
   "source": [
    "#### Different codes I wrote to make the cobot move"
   ]
  },
  {
   "cell_type": "code",
   "execution_count": null,
   "id": "bd02ced5",
   "metadata": {},
   "outputs": [],
   "source": [
    "import serial\n",
    "import serial.tools.list_ports\n",
    "from pymycobot.mycobot import MyCobot\n",
    "from pymycobot.genre import Angle\n",
    "from pymycobot.genre import Coord\n"
   ]
  },
  {
   "cell_type": "code",
   "execution_count": null,
   "id": "f44f14cd",
   "metadata": {},
   "outputs": [],
   "source": [
    "mc.send_angles([0,0,0,0,0,0],20)"
   ]
  },
  {
   "cell_type": "markdown",
   "id": "27465574",
   "metadata": {},
   "source": [
    "#### code to test the pump suction on and off\n"
   ]
  },
  {
   "cell_type": "code",
   "execution_count": null,
   "id": "775a5cd3",
   "metadata": {},
   "outputs": [],
   "source": [
    "mc.send_angles([25,35,45,52,100,0],20)\n",
    "\n",
    "time.sleep(10)\n",
    "coord_data = mc.get_angles() \n",
    "\n",
    "print(coord_data)"
   ]
  },
  {
   "cell_type": "code",
   "execution_count": null,
   "id": "640d1410",
   "metadata": {},
   "outputs": [],
   "source": [
    "from pymycobot.mycobot import MyCobot\n",
    "from pymycobot import PI_PORT, PI_BAUD  # When using the Raspberry Pi version of mycobot, these two variables can be referenced to initialize MyCobot\n",
    "import time\n",
    "\n",
    "# MyCobot class initialization requires two parameters:\n",
    "#   The first is the serial port string, such as:\n",
    "#       linux: \"/dev/ttyUSB0\"\n",
    "#          or \"/dev/ttyAMA0\"\n",
    "#       windows: \"COM3\"\n",
    "#   The second is the baud rate::\n",
    "#       M5 version is: 115200\n",
    "#\n",
    "#    such as:\n",
    "#       mycobot-M5:\n",
    "#           linux:\n",
    "#              mc = MyCobot(\"/dev/ttyUSB0\", 115200)\n",
    "#          or mc = MyCobot(\"/dev/ttyAMA0\", 115200)\n",
    "#           windows:\n",
    "#              mc = MyCobot(\"COM3\", 115200)\n",
    "#       mycobot-raspi:\n",
    "#           mc = MyCobot(PI_PORT, PI_BAUD)\n",
    "#\n",
    "# Initialize a MyCobot object\n",
    "# Create object code here for windows version\n",
    "\n",
    "\n",
    "# The position of the robot arm movement\n",
    "angles = [\n",
    "          [0, 0, 0, 0, 0, 0],\n",
    "            [92.9, -53.7, -83.05, 50.09, -0.43, -38.75],\n",
    "            [0, 0, 0, 0, 0, 0],\n",
    "    [92.9, -53.7, -83.05, 50.09, -0.43, -38.75]\n",
    "         ]\n",
    "\n",
    "# Turn on the suction pump\n",
    "def pump_on():\n",
    "    # make position 2 work\n",
    "    mc.set_basic_output(2, 0)\n",
    "    # make position 5 work\n",
    "    mc.set_basic_output(5, 0)\n",
    "\n",
    "# stop the suction pump\n",
    "def pump_off():\n",
    "    # Stop position 2 from working\n",
    "    mc.set_basic_output(2, 1)\n",
    "    # Stop position 5 from working\n",
    "    mc.set_basic_output(5, 1)\n",
    "\n",
    "# Robotic arm recovery\n",
    "# mc.send_angles([0, 0, 0, 0, 0, 0], 30)\n",
    "# time.sleep(3)\n",
    "\n",
    "# Turn on the suction pump\n",
    "\n",
    "# mc.send_angles(angles[2], 30)\n",
    "# time.sleep(2)\n",
    "\n",
    "for i in range(4):\n",
    "    mc.send_angles(angles[i],10)\n",
    "    time.sleep(10)\n",
    "    start = time.time()\n",
    "    while time.time() - start < 5:\n",
    "        \n",
    "        if i%2 ==0:\n",
    "            pump_on()\n",
    "        else:\n",
    "            pump_off()\n",
    "    \n",
    "\n",
    "# mc.send_angles(angles[1], 30)\n",
    "# time.sleep(2)\n",
    "# mc.send_angles(angles[0], 30)\n",
    "# time.sleep(2)\n",
    "# mc.send_angles(angles[1], 30)\n",
    "# time.sleep(2)\n",
    "\n",
    "# Turn off the suction pump\n",
    "pump_off()\n",
    "# mc.send_angles(angles[0], 40)\n",
    "time.sleep(1.5)"
   ]
  },
  {
   "cell_type": "markdown",
   "id": "4a1a08dc",
   "metadata": {},
   "source": [
    "#### code to make the cobot dance"
   ]
  },
  {
   "cell_type": "code",
   "execution_count": null,
   "id": "564e54ef",
   "metadata": {},
   "outputs": [],
   "source": [
    "from pymycobot.mycobot import MyCobot\n",
    "from pymycobot import PI_PORT, PI_BAUD  # When using the Raspberry Pi version of mycobot, these two variables can be referenced to initialize MyCobot\n",
    "import time\n",
    "\n",
    "if __name__ == \"__main__\":\n",
    "    # MyCobot class initialization requires two parameters:\n",
    "    #   The first is the serial port string, such as:\n",
    "    #       linux: \"/dev/ttyUSB0\"\n",
    "    #          or \"/dev/ttyAMA0\"\n",
    "    #       windows: \"COM3\"\n",
    "    #   The second is the baud rate::\n",
    "    #       M5 version is: 115200\n",
    "    #\n",
    "    #    such as:\n",
    "    #       mycobot-M5:\n",
    "    #           linux:\n",
    "    #              mc = MyCobot(\"/dev/ttyUSB0\", 115200)\n",
    "    #          or mc = MyCobot(\"/dev/ttyAMA0\", 115200)\n",
    "    #           windows:\n",
    "    #              mc = MyCobot(\"COM3\", 115200)\n",
    "    #       mycobot-raspi:\n",
    "    #           mc = MyCobot(PI_PORT, PI_BAUD)\n",
    "    #\n",
    "    # Initialize a MyCobot object\n",
    "    # Create object code for Raspberry Pi version below\n",
    "    \n",
    "\n",
    "    # set start start time\n",
    "    start = time.time()\n",
    "    # Let the robotic arm reach the specified position\n",
    "    mc.send_angles([-1.49, 115, -153.45, 30, -33.42, 137.9], 80)\n",
    "    # Determine if it reaches the specified position\n",
    "    while not mc.is_in_position([-1.49, 115, -153.45, 30, -33.42, 137.9], 0):\n",
    "        # Return the robotic arm to motion\n",
    "        mc.resume()\n",
    "        # Let the robotic arm move for 0.5s\n",
    "        time.sleep(0.5)\n",
    "        # Pause arm movement\n",
    "        mc.pause()\n",
    "        # Determine if the move timed out\n",
    "        if time.time() - start > 3:\n",
    "            break\n",
    "\n",
    "    # set start time\n",
    "   \n",
    "    # Let the exercise last for 30 seconds\n",
    "    while time.time() - start < 30:\n",
    "        # Let the robotic arm quickly reach this position\n",
    "        mc.send_angles([-1.49, 115, -153.45, 30, -33.42, 137.9], 80)\n",
    "        # Set the color of the light to [0,0,50]\n",
    "        mc.set_color(0, 0, 50)\n",
    "        time.sleep(0.7)\n",
    "        # Let the robotic arm quickly reach this position\n",
    "        mc.send_angles([-1.49, 55, -153.45, 80, 33.42, 137.9], 80)\n",
    "        # Set the color of the light to [0,50,0]\n",
    "        mc.set_color(0, 50, 0)\n",
    "        time.sleep(0.7)"
   ]
  },
  {
   "cell_type": "markdown",
   "id": "7adddf97",
   "metadata": {},
   "source": [
    "#### code to make the release all the servos\n"
   ]
  },
  {
   "cell_type": "code",
   "execution_count": null,
   "id": "53b0a640",
   "metadata": {},
   "outputs": [],
   "source": [
    "mc.release_all_servos()"
   ]
  },
  {
   "cell_type": "markdown",
   "id": "2033337b",
   "metadata": {},
   "source": [
    "#### code to tighten all the servos"
   ]
  },
  {
   "cell_type": "code",
   "execution_count": null,
   "id": "bbfdc36c",
   "metadata": {},
   "outputs": [],
   "source": [
    "mc.jog_stop()"
   ]
  }
 ],
 "metadata": {
  "kernelspec": {
   "display_name": "Python 3 (ipykernel)",
   "language": "python",
   "name": "python3"
  },
  "language_info": {
   "codemirror_mode": {
    "name": "ipython",
    "version": 3
   },
   "file_extension": ".py",
   "mimetype": "text/x-python",
   "name": "python",
   "nbconvert_exporter": "python",
   "pygments_lexer": "ipython3",
   "version": "3.10.9"
  }
 },
 "nbformat": 4,
 "nbformat_minor": 5
}
